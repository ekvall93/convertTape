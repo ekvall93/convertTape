{
 "cells": [
  {
   "cell_type": "code",
   "execution_count": 8,
   "metadata": {},
   "outputs": [],
   "source": [
    "import pickle as pkl\n",
    "from tape import ProteinBertForValuePredictionFragmentationProsit\n",
    "%config Completer.use_jedi = False\n",
    "\n",
    "import onnx\n",
    "\n",
    "from onnx_tf.backend import prepare\n",
    "import onnxruntime\n",
    "import torch\n",
    "import numpy as np"
   ]
  },
  {
   "cell_type": "markdown",
   "metadata": {},
   "source": [
    "### Loading PyTorch model"
   ]
  },
  {
   "cell_type": "code",
   "execution_count": 9,
   "metadata": {},
   "outputs": [],
   "source": [
    "pytorch_model = ProteinBertForValuePredictionFragmentationProsit.from_pretrained(\"/sdd/prometheus/hcd_maximus_lr_1e-4_d_0.3\")"
   ]
  },
  {
   "cell_type": "markdown",
   "metadata": {},
   "source": [
    "### Load data to test converted models"
   ]
  },
  {
   "cell_type": "code",
   "execution_count": 10,
   "metadata": {},
   "outputs": [],
   "source": [
    "def pad_sequences(sequences, constant_value=0, dtype=None) -> np.ndarray:\n",
    "    batch_size = len(sequences)\n",
    "    shape = [batch_size] + np.max([seq.shape for seq in sequences], 0).tolist()\n",
    "\n",
    "    if dtype is None:\n",
    "        dtype = sequences[0].dtype\n",
    "\n",
    "    if isinstance(sequences[0], np.ndarray):\n",
    "        array = np.full(shape, constant_value, dtype=dtype)\n",
    "    elif isinstance(sequences[0], torch.Tensor):\n",
    "        array = torch.full(shape, constant_value, dtype=dtype)\n",
    "\n",
    "    for arr, seq in zip(array, sequences):\n",
    "        arrslice = tuple(slice(dim) for dim in seq.shape)\n",
    "        arr[arrslice] = seq\n",
    "\n",
    "    return array"
   ]
  },
  {
   "cell_type": "code",
   "execution_count": 11,
   "metadata": {},
   "outputs": [],
   "source": [
    "results = pkl.load(open(\"/sdd/prometheus/results.pkl\", \"rb\"))"
   ]
  },
  {
   "cell_type": "markdown",
   "metadata": {},
   "source": [
    "### Median spectral angle"
   ]
  },
  {
   "cell_type": "code",
   "execution_count": 12,
   "metadata": {},
   "outputs": [],
   "source": [
    "sequence_arr = np.array([results[1][0][\"sequence\"]])\n",
    "sequence = torch.tensor(sequence_arr)\n",
    "\n",
    "charge_arr = np.array([results[1][0][\"charge\"]])\n",
    "charge = torch.tensor(charge_arr)\n",
    "\n",
    "collision_energy_arr = np.array([results[1][0][\"collision_energy\"]])\n",
    "collision_energy = torch.tensor(collision_energy_arr)\n",
    "\n",
    "\n",
    "input_mask = np.ones_like(sequence)\n",
    "input_mask_arr = pad_sequences(input_mask, 0)\n",
    "input_mask = torch.from_numpy(input_mask_arr)"
   ]
  },
  {
   "cell_type": "code",
   "execution_count": 21,
   "metadata": {},
   "outputs": [],
   "source": [
    "INPUT = (sequence, collision_energy, charge, input_mask)\n",
    "INP_Name = [\"sequence\", \"charge\", \"collision_energy\", \"input_mask\"]"
   ]
  },
  {
   "cell_type": "code",
   "execution_count": 18,
   "metadata": {},
   "outputs": [],
   "source": [
    "o = pytorch_model(sequence, collision_energy, charge, input_mask=input_mask)[0]"
   ]
  },
  {
   "cell_type": "code",
   "execution_count": 19,
   "metadata": {},
   "outputs": [],
   "source": [
    "real_out = o.cpu().detach().numpy()[0]"
   ]
  },
  {
   "cell_type": "markdown",
   "metadata": {},
   "source": [
    "### Export PyTorch model"
   ]
  },
  {
   "cell_type": "code",
   "execution_count": 22,
   "metadata": {},
   "outputs": [],
   "source": [
    "torch.onnx.export(pytorch_model, args=INPUT, f=\"tape.onnx\", input_names=INP_Name,\n",
    "        output_names=[\"output1\"], export_params=True,opset_version=11, do_constant_folding=True,\n",
    "                 dynamic_axes={'input_ids': [1], #this means second axis is dynamic       \n",
    "                                    'input_mask' : [1],\n",
    "                                    'segment_ids' : [1],\n",
    "                                    })"
   ]
  },
  {
   "cell_type": "markdown",
   "metadata": {},
   "source": [
    "### Load model into ONNX-runtime"
   ]
  },
  {
   "cell_type": "code",
   "execution_count": 23,
   "metadata": {},
   "outputs": [],
   "source": [
    "\n",
    "\n",
    "ort_session = onnxruntime.InferenceSession(\"tape.onnx\")"
   ]
  },
  {
   "cell_type": "code",
   "execution_count": 24,
   "metadata": {},
   "outputs": [],
   "source": [
    "INP = [\"sequence\", \"charge\", \"collision_energy\", \"input_mask\"]\n",
    "ARG = [sequence_arr, collision_energy_arr, charge_arr, input_mask_arr]\n"
   ]
  },
  {
   "cell_type": "code",
   "execution_count": 25,
   "metadata": {},
   "outputs": [],
   "source": [
    "ort_inputs = {n:v for n, v in zip(INP,ARG)}\n",
    "ort_outs = ort_session.run(None, ort_inputs)"
   ]
  },
  {
   "cell_type": "code",
   "execution_count": 26,
   "metadata": {},
   "outputs": [],
   "source": [
    "onnx_runtime_out = ort_outs[0][0]"
   ]
  },
  {
   "cell_type": "code",
   "execution_count": 27,
   "metadata": {},
   "outputs": [
    {
     "data": {
      "text/plain": [
       "True"
      ]
     },
     "execution_count": 27,
     "metadata": {},
     "output_type": "execute_result"
    }
   ],
   "source": [
    "np.allclose(real_out, onnx_runtime_out, rtol=1e-02)"
   ]
  },
  {
   "cell_type": "code",
   "execution_count": 28,
   "metadata": {},
   "outputs": [
    {
     "data": {
      "text/plain": [
       "array([ 1.9282460e-02,  1.7728955e-02,  9.7595900e-04,  1.2260258e-02,\n",
       "       -2.0688266e-02,  1.7904788e-03,  9.9739060e-05, -1.2320578e-03,\n",
       "       -8.9403093e-03,  4.0559620e-03, -1.8938631e-03,  2.4975985e-03,\n",
       "        2.9895268e-04,  3.4641698e-03], dtype=float32)"
      ]
     },
     "execution_count": 28,
     "metadata": {},
     "output_type": "execute_result"
    }
   ],
   "source": [
    "real_out[~np.isclose(real_out, onnx_runtime_out, rtol=1e-04)]"
   ]
  },
  {
   "cell_type": "code",
   "execution_count": 29,
   "metadata": {},
   "outputs": [
    {
     "data": {
      "text/plain": [
       "array([ 1.92847252e-02,  1.77313983e-02,  9.76443291e-04,  1.22627765e-02,\n",
       "       -2.06859037e-02,  1.79086812e-03,  9.97888856e-05, -1.23066083e-03,\n",
       "       -8.93931091e-03,  4.05688956e-03, -1.89276040e-03,  2.49802880e-03,\n",
       "        2.98997387e-04,  3.46497446e-03], dtype=float32)"
      ]
     },
     "execution_count": 29,
     "metadata": {},
     "output_type": "execute_result"
    }
   ],
   "source": [
    "onnx_runtime_out[~np.isclose(real_out, onnx_runtime_out, rtol=1e-04)]"
   ]
  },
  {
   "cell_type": "markdown",
   "metadata": {},
   "source": [
    "### Load model to tensorflow"
   ]
  },
  {
   "cell_type": "code",
   "execution_count": 46,
   "metadata": {},
   "outputs": [],
   "source": [
    "model = onnx.load('tape.onnx')\n",
    "tf_rep = prepare(model, device='GPU') "
   ]
  },
  {
   "cell_type": "code",
   "execution_count": 47,
   "metadata": {},
   "outputs": [],
   "source": [
    "ARG = [sequence_arr, collision_energy_arr, charge_arr, input_mask_arr]"
   ]
  },
  {
   "cell_type": "code",
   "execution_count": 48,
   "metadata": {},
   "outputs": [],
   "source": [
    "tf_output = tf_rep.run(ARG)[0][0]"
   ]
  },
  {
   "cell_type": "code",
   "execution_count": 49,
   "metadata": {},
   "outputs": [
    {
     "data": {
      "text/plain": [
       "array([ 5.37016106e+00, -4.10081930e-02,  0.00000000e+00,  9.81307983e+00,\n",
       "        0.00000000e+00,  0.00000000e+00, -1.23881340e-01,  1.37594953e-01,\n",
       "       -2.93145934e-03, -1.70865893e-01,  2.27926582e-01,  3.77799273e-02,\n",
       "        1.59233761e+00,  3.32535028e-01, -3.03387605e-02,  5.49741793e+00,\n",
       "        1.09856918e-01, -2.83962861e-02, -1.67809629e+00,  4.76672232e-01,\n",
       "       -3.04797590e-02,  1.93920574e+01,  2.77297616e-01,  4.86301221e-02,\n",
       "       -2.59120965e+00,  1.70746231e+00, -2.65571792e-02,  1.50965567e+01,\n",
       "        5.23026466e-01,  9.99324024e-03, -2.87721515e+00,  2.38855209e+01,\n",
       "        1.07080251e-01,  2.42795992e+00, -4.00280580e-02,  5.08896820e-02,\n",
       "       -3.15944934e+00,  4.15128860e+01,  4.11418945e-01,  1.54867560e-01,\n",
       "        5.24484098e-01,  1.53549194e-01, -4.08090973e+00,  8.10036774e+01,\n",
       "        6.55273080e-01,  1.56922534e-01,  3.68687391e-01, -7.35779703e-02,\n",
       "       -3.63134956e+00,  3.30631447e+01,  6.96953118e-01, -6.17278516e-02,\n",
       "        9.77721289e-02,  1.75055787e-02, -1.90217090e+00,  3.01902461e+00,\n",
       "       -3.85326177e-01,  1.50545835e-02,  1.36393771e-01,  8.07847232e-02,\n",
       "       -3.19962025e-01, -1.81837690e+00, -1.13562179e+00, -1.51096374e-01,\n",
       "       -8.69672224e-02,  2.96132147e-01, -4.01102424e-01, -2.12687707e+00,\n",
       "       -1.71859264e-02, -1.25912607e-01,  6.20563179e-02,  9.58387613e-01,\n",
       "        6.37469411e-01, -2.64817047e+00, -7.90725708e-01,  4.91864979e-01,\n",
       "       -3.50407720e-01, -6.89936280e-02,  1.31445229e+00,  6.48159742e+00,\n",
       "        7.64735842e+00, -1.53986320e-01,  4.25830364e+00,  1.93267012e+00,\n",
       "        6.51697111e+00,  1.87249241e+01,  7.18764639e+00, -3.41840684e-02,\n",
       "        4.25746441e-02,  6.13964367e+00, -7.73957968e-01,  1.48249378e+01,\n",
       "        1.71319733e+01,  2.65638828e-02,  5.80071688e+00,  6.71454525e+00,\n",
       "       -3.41997325e-01,  4.11136360e+01,  2.20866833e+01, -1.08533233e-01,\n",
       "        2.11113739e+01,  8.24231434e+00, -4.71594334e-02,  3.67051010e+01,\n",
       "        1.87077007e+01, -9.85639468e-02,  2.06113377e+01,  7.25183392e+00,\n",
       "        4.45237935e-01,  2.19195805e+01,  4.19383526e-01, -3.26551758e-02,\n",
       "       -3.28672528e+00, -1.38823938e+00,  4.06455755e-01,  5.05656385e+00,\n",
       "        5.76723289e+00,  1.55098379e-01, -5.50849581e+00, -1.56946611e+00,\n",
       "        3.14426810e-01,  9.55480003e+00,  1.06822348e+00,  2.01826453e-01,\n",
       "       -8.53611588e-01,  1.37941837e+00,  1.39370620e-01,  2.42551041e+00,\n",
       "       -1.25446320e-02,  1.80706769e-01, -8.61889005e-01,  2.40564179e+00,\n",
       "        7.52024725e-02,  2.78094268e+00, -2.42658782e+00,  1.17792353e-01,\n",
       "       -1.43046093e+00,  1.02562356e+00,  3.94552313e-02,  2.46420956e+00,\n",
       "        3.05404186e+00,  1.48511315e-02, -1.41975617e+00,  2.80772358e-01,\n",
       "       -7.63780158e-03, -2.38118696e+00, -1.06076086e+00,  1.59639642e-02,\n",
       "       -4.99329090e-01,  4.69318092e-01,  4.71026674e-02, -1.37137103e+00,\n",
       "        6.39145613e-01,  1.04624219e-03, -4.22363877e-02,  2.61300951e-01,\n",
       "       -6.58598468e-02, -4.22933769e+00, -6.23816156e+00,  4.40445319e-02,\n",
       "        8.42975676e-02,  4.41064030e-01,  3.60911563e-02, -7.18868315e-01,\n",
       "       -8.07440186e+00,  3.86354476e-02, -5.00338197e-01, -1.88637942e-01,\n",
       "        4.35500666e-02, -1.72210231e-01, -8.09275627e-01, -4.24576849e-02,\n",
       "       -2.00933009e-01, -1.67090619e+00], dtype=float32)"
      ]
     },
     "execution_count": 49,
     "metadata": {},
     "output_type": "execute_result"
    }
   ],
   "source": [
    "tf_output"
   ]
  },
  {
   "cell_type": "code",
   "execution_count": 50,
   "metadata": {},
   "outputs": [
    {
     "data": {
      "text/plain": [
       "array([ 1.07584782e-01, -1.44136837e-03,  0.00000000e+00,  7.23717734e-02,\n",
       "        0.00000000e+00,  0.00000000e+00,  2.32030600e-02,  3.12625058e-03,\n",
       "       -3.04760120e-04,  4.68800664e-02,  5.37447724e-03,  9.82693629e-04,\n",
       "        3.62140089e-02,  6.47953805e-03, -1.93171436e-04,  7.50481486e-02,\n",
       "        2.50327517e-03, -6.24939334e-04,  2.33075917e-02,  4.38676495e-03,\n",
       "       -9.81787685e-04,  5.58439255e-01,  1.82294622e-02,  1.66263001e-03,\n",
       "        2.34790891e-02,  2.75802407e-02, -1.53056229e-03,  6.27640843e-01,\n",
       "        2.19078138e-02, -3.40388855e-04,  1.92824602e-02,  2.38126948e-01,\n",
       "        1.29890000e-03,  1.63167894e-01,  9.12479404e-03,  1.84179016e-03,\n",
       "        1.77289546e-02,  1.12298667e+00,  1.16544403e-02,  9.75959003e-04,\n",
       "        8.70637782e-03,  4.46990784e-03,  1.22602582e-02,  2.69511509e+00,\n",
       "        7.24992678e-02,  6.67252205e-03,  1.05688376e-02, -2.82301707e-03,\n",
       "       -2.06882656e-02,  1.21580076e+00,  5.49417250e-02,  1.79047883e-03,\n",
       "        8.62263516e-03,  9.97390598e-05, -1.23205781e-03,  1.59367681e-01,\n",
       "        1.87917575e-02,  3.72297503e-03,  8.62955768e-03,  3.16348299e-03,\n",
       "       -8.94030929e-03,  4.05596197e-03, -5.52794337e-03, -1.70352235e-02,\n",
       "        1.68855134e-02,  1.37035549e-02,  1.52370706e-02, -1.89386308e-03,\n",
       "        1.27205364e-02, -1.70168728e-02,  2.98470166e-02,  1.96249261e-02,\n",
       "        5.27686998e-03, -1.89065486e-02, -1.00098699e-02,  3.79802659e-03,\n",
       "        9.10617784e-03, -4.22802195e-03,  3.58348805e-03,  3.23360920e-01,\n",
       "        2.79729068e-01, -1.01256855e-02,  1.60751954e-01,  3.18989865e-02,\n",
       "        4.92130369e-02,  4.92126286e-01,  2.69125432e-01, -9.99359228e-03,\n",
       "        2.49759853e-03,  8.59666467e-02, -3.95322815e-02,  4.94284987e-01,\n",
       "        4.65495765e-01, -3.99288163e-03,  1.48348600e-01,  8.55901316e-02,\n",
       "        1.45167671e-02,  1.35530901e+00,  7.88728118e-01, -2.25897226e-03,\n",
       "        6.73063815e-01,  9.91175026e-02,  2.98952684e-04,  1.12051213e+00,\n",
       "        6.36525691e-01, -5.48237609e-03,  4.67765331e-01,  8.90701935e-02,\n",
       "        1.59043185e-02,  8.07841420e-01,  8.55320543e-02, -2.04053801e-03,\n",
       "       -6.83376640e-02, -1.20522119e-02,  1.11107239e-02,  2.39446431e-01,\n",
       "        2.60494798e-01,  2.69268220e-03, -1.22855812e-01,  2.02510972e-03,\n",
       "        9.90193523e-03,  4.01352286e-01,  1.17059939e-01,  5.21061197e-03,\n",
       "        7.82183558e-03,  2.41021626e-02,  4.82097734e-03,  1.53349042e-01,\n",
       "        7.23165795e-02,  5.51824644e-03,  3.80326249e-02,  6.71791956e-02,\n",
       "        2.80549424e-03,  1.49811685e-01,  3.46416980e-03,  3.60553712e-03,\n",
       "       -3.50161362e-03,  3.82819958e-02,  2.27670977e-03,  2.63507776e-02,\n",
       "        1.89391017e-01,  1.30598448e-04, -2.08490230e-02,  2.35075150e-02,\n",
       "       -3.26235080e-04, -1.06142119e-01,  3.76922973e-02,  2.97233346e-04,\n",
       "       -3.76315182e-03,  2.19860822e-02,  9.14118486e-04, -6.41775206e-02,\n",
       "        1.00953981e-01,  3.35109071e-05,  6.94675883e-03,  1.80750545e-02,\n",
       "       -2.46761274e-03, -1.39364734e-01, -1.37357950e-01,  1.80091709e-03,\n",
       "        3.80183011e-03,  2.15552375e-02,  9.19878134e-04, -3.90250832e-02,\n",
       "       -2.56164968e-01,  1.03028957e-03, -1.40671749e-02, -3.30371037e-03,\n",
       "        1.07756141e-03, -5.13742678e-03, -3.62036005e-02, -1.04788016e-03,\n",
       "       -5.42634446e-03, -4.02264744e-02], dtype=float32)"
      ]
     },
     "execution_count": 50,
     "metadata": {},
     "output_type": "execute_result"
    }
   ],
   "source": [
    "real_out"
   ]
  },
  {
   "cell_type": "code",
   "execution_count": null,
   "metadata": {},
   "outputs": [],
   "source": []
  }
 ],
 "metadata": {
  "kernelspec": {
   "display_name": "Python (TAPElocal)",
   "language": "python",
   "name": "tapelocal"
  },
  "language_info": {
   "codemirror_mode": {
    "name": "ipython",
    "version": 3
   },
   "file_extension": ".py",
   "mimetype": "text/x-python",
   "name": "python",
   "nbconvert_exporter": "python",
   "pygments_lexer": "ipython3",
   "version": "3.6.13"
  }
 },
 "nbformat": 4,
 "nbformat_minor": 2
}
